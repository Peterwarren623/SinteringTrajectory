{
 "cells": [
  {
   "cell_type": "markdown",
   "id": "designing-proposal",
   "metadata": {},
   "source": [
    "Sintering Trajectories: Description on How Density, Surface Area, and Grain Size Change\n",
    "\n",
    "G =  Current Average Grain Size  \n",
    "G_o = Average Initial Grain Size    \n",
    "Ep = Fractional Porosity (1-f)    \n",
    "Theta = starting grain size and porosity condition  \n",
    "Alpha =  diffusivity and surface energy  \n",
    "t = time  \n",
    "f = Current Fractional Density    \n",
    "fo = Original Fractional Density  \n",
    "N = coefficient often near 1/6 - 1/3  \n",
    "K = temperature dependent rate parameter  \n",
    "Y = Change in Length / Original Length   \n",
    "Css = Contiguity (Grain Boundary/Total Grain Perimeter)  \n",
    "Kss = grain growth rate parameter solid-solid interface  \n",
    "Ksv = grain growth rate parameter solid-vapor interface  \n",
    "q = factor (1.5)"
   ]
  },
  {
   "cell_type": "code",
   "execution_count": 29,
   "id": "exceptional-prototype",
   "metadata": {},
   "outputs": [],
   "source": [
    "import matplotlib.pyplot as plt\n",
    "import numpy as np\n",
    "from numpy import random\n",
    "from sklearn.metrics import r2_score"
   ]
  },
  {
   "cell_type": "code",
   "execution_count": 30,
   "id": "greek-proxy",
   "metadata": {},
   "outputs": [
    {
     "data": {
      "image/png": "[encoded data removed]",
      "text/plain": [
       "<Figure size 432x288 with 1 Axes>"
      ]
     },
     "metadata": {
      "needs_background": "light"
     },
     "output_type": "display_data"
    }
   ],
   "source": [
    "# density definitions\n",
    "# density will climb from 0.64 to ideally 1 (but always slightly less) (somewhere between 0.85 and 1)\n",
    "# we will take density from 0.64 to 0.95 (1000 points in between)\n",
    "# we can add in some gaussian noise here as GN\n",
    "\n",
    "\n",
    "\n",
    "t = np.arange(1, 1441, dtype=np.float64)\n",
    "\n",
    "G_original = 2.5\n",
    "\n",
    "K = 5\n",
    "\n",
    "G = ((G_original**3)+K*t)**(1/3)\n",
    "\n",
    "\n",
    "#Plot density with GN vs true density\n",
    "\n",
    "plt.plot(t, G, 'bo', label=\"grain size\", markersize=1)\n",
    "plt.xlabel('Time')\n",
    "plt.ylabel('Grain Size')\n",
    "plt.legend()\n",
    "plt.show()"
   ]
  },
  {
   "cell_type": "code",
   "execution_count": 104,
   "id": "national-laugh",
   "metadata": {},
   "outputs": [
    {
     "data": {
      "text/plain": [
       "(1440, 100000)"
      ]
     },
     "execution_count": 104,
     "metadata": {},
     "output_type": "execute_result"
    }
   ],
   "source": [
    "G_F = np.zeros((1440,1000))\n",
    "G_F.shape"
   ]
  },
  {
   "cell_type": "code",
   "execution_count": 108,
   "id": "approved-tablet",
   "metadata": {},
   "outputs": [],
   "source": [
    "G_F = np.zeros((1440,1000))\n",
    "\n",
    "\n",
    "for i in range(1440):\n",
    "    mu = 0\n",
    "    sigma = 2\n",
    "    MP = 1000\n",
    "    GN = np.random.normal(mu, sigma, MP)   \n",
    "    G_F[i] = G[i]+GN\n",
    "    tt = np.expand_dims(t, axis=1)\n",
    "    K_measured = (G_F**3 - G_F[0]**3)/tt\n",
    "\n",
    "    "
   ]
  },
  {
   "cell_type": "code",
   "execution_count": 106,
   "id": "coordinate-moldova",
   "metadata": {},
   "outputs": [
    {
     "data": {
      "text/plain": [
       "21.892562722728517"
      ]
     },
     "execution_count": 106,
     "metadata": {},
     "output_type": "execute_result"
    }
   ],
   "source": [
    "G_F[1439,40]"
   ]
  },
  {
   "cell_type": "code",
   "execution_count": 107,
   "id": "paperback-fundamental",
   "metadata": {},
   "outputs": [
    {
     "data": {
      "image/png": "[encoded data removed]",
      "text/plain": [
       "<Figure size 432x288 with 1 Axes>"
      ]
     },
     "metadata": {
      "needs_background": "light"
     },
     "output_type": "display_data"
    }
   ],
   "source": [
    "plt.plot(t, G_F[:,7], 'bo', label=\"grain size\", markersize=1)\n",
    "plt.xlabel('Time')\n",
    "plt.ylabel('Grain Size')\n",
    "plt.legend()\n",
    "plt.show()\n"
   ]
  },
  {
   "cell_type": "code",
   "execution_count": 77,
   "id": "tribal-footwear",
   "metadata": {},
   "outputs": [],
   "source": [
    "tt = np.expand_dims(t, axis=1)"
   ]
  },
  {
   "cell_type": "code",
   "execution_count": 78,
   "id": "manual-noise",
   "metadata": {},
   "outputs": [],
   "source": [
    "K_measured = (G_F**3 - G_F[0]**3)/tt"
   ]
  },
  {
   "cell_type": "code",
   "execution_count": 79,
   "id": "racial-complement",
   "metadata": {},
   "outputs": [
    {
     "data": {
      "text/plain": [
       "array([  0.        , -35.21336569, -24.03630329, ...,   6.20353418,\n",
       "         3.47172308,   4.23553342])"
      ]
     },
     "execution_count": 79,
     "metadata": {},
     "output_type": "execute_result"
    }
   ],
   "source": [
    "K_measured[:,2]"
   ]
  },
  {
   "cell_type": "code",
   "execution_count": 80,
   "id": "taken-nomination",
   "metadata": {},
   "outputs": [
    {
     "data": {
      "text/plain": [
       "(1440, 10000)"
      ]
     },
     "execution_count": 80,
     "metadata": {},
     "output_type": "execute_result"
    }
   ],
   "source": [
    "K_measured.shape"
   ]
  },
  {
   "cell_type": "code",
   "execution_count": 81,
   "id": "dramatic-receiver",
   "metadata": {},
   "outputs": [],
   "source": [
    "K2 = np.array([K_measured[1439]])\n",
    "K3 = np.array([K_measured[1380], K_measured[1439]])\n",
    "K4 = np.array([K_measured[1320], K_measured[1380], K_measured[1439]])\n",
    "K5 = np.array([K_measured[1260], K_measured[1320], K_measured[1380], K_measured[1439]])\n",
    "K6 = np.array([K_measured[1200], K_measured[1260], K_measured[1320], K_measured[1380], K_measured[1439]])\n",
    "K7 = np.array([K_measured[1140], K_measured[1200], K_measured[1260], K_measured[1320], K_measured[1380], K_measured[1439]])\n",
    "K8 = np.array([K_measured[1080], K_measured[1140], K_measured[1200], K_measured[1260], K_measured[1320], K_measured[1380], K_measured[1439]])\n",
    "\n"
   ]
  },
  {
   "cell_type": "code",
   "execution_count": 92,
   "id": "respected-uzbekistan",
   "metadata": {},
   "outputs": [],
   "source": [
    "x = random.randint(10000, size=(1))\n",
    "K2M = K2[:, x]\n",
    "x = random.randint(10000, size=(1))\n",
    "K3M = K3[:, x]\n",
    "x = random.randint(10000, size=(1))\n",
    "K4M = K4[:, x]\n",
    "x = random.randint(10000, size=(1))\n",
    "K5M = K5[:, x]\n",
    "x = random.randint(10000, size=(1))\n",
    "K6M = K6[:, x]\n",
    "x = random.randint(10000, size=(1))\n",
    "K7M = K7[:, x]\n",
    "x = random.randint(10000, size=(1))\n",
    "K8M = K8[:, x]\n"
   ]
  },
  {
   "cell_type": "code",
   "execution_count": 93,
   "id": "matched-status",
   "metadata": {},
   "outputs": [],
   "source": [
    "KA2 = np.average(K2M)\n",
    "KA3 = np.average(K3M)\n",
    "KA4 = np.average(K4M)\n",
    "KA5 = np.average(K5M)\n",
    "KA6 = np.average(K6M)\n",
    "KA7 = np.average(K7M)\n",
    "KA8 = np.average(K8M)"
   ]
  },
  {
   "cell_type": "code",
   "execution_count": 94,
   "id": "surgical-sphere",
   "metadata": {},
   "outputs": [
    {
     "name": "stdout",
     "output_type": "stream",
     "text": [
      "[[1.16801096]\n",
      " [7.77776856]\n",
      " [1.49195385]\n",
      " [1.90281955]\n",
      " [4.52960187]\n",
      " [3.54609538]\n",
      " [3.9912542 ]]\n"
     ]
    }
   ],
   "source": [
    "print(K8M)"
   ]
  },
  {
   "cell_type": "code",
   "execution_count": 95,
   "id": "designing-tracker",
   "metadata": {},
   "outputs": [],
   "source": [
    "KT = np.array([KA2, KA3, KA4, KA5, KA6, KA7, KA8])"
   ]
  },
  {
   "cell_type": "code",
   "execution_count": 96,
   "id": "second-metallic",
   "metadata": {
    "scrolled": true
   },
   "outputs": [
    {
     "name": "stdout",
     "output_type": "stream",
     "text": [
      "[5.24357855 6.14710511 5.3886978  6.30451324 5.99581361 6.2493926\n",
      " 3.48678634]\n"
     ]
    }
   ],
   "source": [
    "print(KT)"
   ]
  },
  {
   "cell_type": "code",
   "execution_count": 97,
   "id": "black-change",
   "metadata": {},
   "outputs": [
    {
     "data": {
      "image/png": "[encoded data removed]",
      "text/plain": [
       "<Figure size 432x288 with 1 Axes>"
      ]
     },
     "metadata": {
      "needs_background": "light"
     },
     "output_type": "display_data"
    },
    {
     "name": "stdout",
     "output_type": "stream",
     "text": [
      "[0.         4.8386711  5.09894698 ... 5.3160181  5.326888   5.32255956]\n"
     ]
    }
   ],
   "source": [
    "l = np.mean(K_measured, axis=1)\n",
    "plt.plot(t, l, 'bo', label=\"grain size\", markersize=1)\n",
    "plt.xlabel('Time')\n",
    "plt.ylabel('Grain Size')\n",
    "plt.legend()\n",
    "plt.show()\n",
    "print(l)"
   ]
  },
  {
   "cell_type": "code",
   "execution_count": null,
   "id": "double-organizer",
   "metadata": {},
   "outputs": [],
   "source": [
    "KE = (np.abs((K - K_measured)/K))*100"
   ]
  },
  {
   "cell_type": "code",
   "execution_count": null,
   "id": "approved-israel",
   "metadata": {},
   "outputs": [],
   "source": [
    "np.average(KE[700])"
   ]
  },
  {
   "cell_type": "code",
   "execution_count": null,
   "id": "important-sheep",
   "metadata": {
    "scrolled": false
   },
   "outputs": [],
   "source": [
    "KE[:]"
   ]
  },
  {
   "cell_type": "code",
   "execution_count": null,
   "id": "static-defense",
   "metadata": {},
   "outputs": [],
   "source": []
  }
 ],
 "metadata": {
  "kernelspec": {
   "display_name": "Python 3",
   "language": "python",
   "name": "python3"
  },
  "language_info": {
   "codemirror_mode": {
    "name": "ipython",
    "version": 3
   },
   "file_extension": ".py",
   "mimetype": "text/x-python",
   "name": "python",
   "nbconvert_exporter": "python",
   "pygments_lexer": "ipython3",
   "version": "3.8.3"
  }
 },
 "nbformat": 4,
 "nbformat_minor": 5
}
