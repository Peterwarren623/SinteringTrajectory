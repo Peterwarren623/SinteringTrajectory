{
 "cells": [
  {
   "cell_type": "markdown",
   "id": "designing-proposal",
   "metadata": {},
   "source": [
    "Sintering Trajectories: Description on How Density, Surface Area, and Grain Size Change\n",
    "\n",
    "G =  Current Average Grain Size  \n",
    "G_o = Average Initial Grain Size    \n",
    "Ep = Fractional Porosity (1-f)    \n",
    "Theta = starting grain size and porosity condition  \n",
    "Alpha =  diffusivity and surface energy  \n",
    "t = time  \n",
    "f = Current Fractional Density    \n",
    "fo = Original Fractional Density  \n",
    "N = coefficient often near 1/6 - 1/3  \n",
    "K = temperature dependent rate parameter  \n",
    "Y = Change in Length / Original Length   \n",
    "Css = Contiguity (Grain Boundary/Total Grain Perimeter)  \n",
    "Kss = grain growth rate parameter solid-solid interface  \n",
    "Ksv = grain growth rate parameter solid-vapor interface  \n",
    "q = factor (1.5)"
   ]
  },
  {
   "cell_type": "code",
   "execution_count": 2,
   "id": "exceptional-prototype",
   "metadata": {},
   "outputs": [],
   "source": [
    "import matplotlib.pyplot as plt\n",
    "import numpy as np\n",
    "from numpy import random\n",
    "from sklearn.metrics import r2_score"
   ]
  },
  {
   "cell_type": "code",
   "execution_count": 7,
   "id": "greek-proxy",
   "metadata": {},
   "outputs": [
    {
     "data": {
      "image/png": "[encoded data removed]",
      "text/plain": [
       "<Figure size 432x288 with 1 Axes>"
      ]
     },
     "metadata": {
      "needs_background": "light"
     },
     "output_type": "display_data"
    }
   ],
   "source": [
    "# density definitions\n",
    "# density will climb from 0.64 to ideally 1 (but always slightly less) (somewhere between 0.85 and 1)\n",
    "# we will take density from 0.64 to 0.95 (1000 points in between)\n",
    "# we can add in some gaussian noise here as GN\n",
    "\n",
    "\n",
    "\n",
    "t = np.arange(1, 1441, dtype=np.float64)\n",
    "\n",
    "G_original = 2.5\n",
    "\n",
    "K = 5\n",
    "\n",
    "G = ((G_original**3)+K*t)**(1/3)\n",
    "\n",
    "\n",
    "#Plot density with GN vs true density\n",
    "\n",
    "plt.plot(t, G, 'bo', label=\"grain size\", markersize=1)\n",
    "plt.xlabel('Time')\n",
    "plt.ylabel('Grain Size')\n",
    "plt.legend()\n",
    "plt.show()"
   ]
  },
  {
   "cell_type": "code",
   "execution_count": 20,
   "id": "graduate-closure",
   "metadata": {},
   "outputs": [],
   "source": [
    "t2 = t[1],t[1439]\n",
    "t3 = t[1], t[720], t[1439]\n",
    "t4 = t[1], t[480], t[960], t[1439]\n",
    "t5 = t[1], t[360], t[720], t[1080], t[1439]\n",
    "t6 = t[1], t[288], t[576], t[864], t[1152], t[1439]\n",
    "t7 = t[1], t[240], t[480], t[720], t[960], t[1200], t[1439]\n",
    "t8 = t[1], t[205], t[410], t[615], t[820], t[1025], t[1230], t[1439]\n",
    "\n",
    "mu = 0\n",
    "\n",
    "sigma = 0.01\n",
    "\n",
    "MP = 400\n",
    "\n",
    "GN = np.random.normal(mu, sigma, MP)"
   ]
  },
  {
   "cell_type": "code",
   "execution_count": 21,
   "id": "driving-architecture",
   "metadata": {
    "scrolled": true
   },
   "outputs": [
    {
     "data": {
      "text/plain": [
       "(1440, 400)"
      ]
     },
     "execution_count": 21,
     "metadata": {},
     "output_type": "execute_result"
    }
   ],
   "source": [
    "G_F = np.zeros((1440,400))\n",
    "G_F.shape"
   ]
  },
  {
   "cell_type": "code",
   "execution_count": 23,
   "id": "approved-tablet",
   "metadata": {},
   "outputs": [],
   "source": [
    "G_F = np.zeros((1440,400))\n",
    "\n",
    "for i in range(1440):\n",
    "    mu = 0\n",
    "    sigma = 1\n",
    "    MP = 400\n",
    "    GN = np.random.normal(mu, sigma, MP)\n",
    "    G_F[i] = G[i]+GN\n",
    "\n",
    "    "
   ]
  },
  {
   "cell_type": "code",
   "execution_count": 24,
   "id": "tribal-footwear",
   "metadata": {},
   "outputs": [],
   "source": [
    "tt = np.expand_dims(t, axis=1)"
   ]
  },
  {
   "cell_type": "code",
   "execution_count": 25,
   "id": "manual-noise",
   "metadata": {},
   "outputs": [],
   "source": [
    "K_measured = (G_F**3 - G_F[0]**3)/tt"
   ]
  },
  {
   "cell_type": "code",
   "execution_count": 26,
   "id": "improved-inspection",
   "metadata": {},
   "outputs": [
    {
     "data": {
      "text/plain": [
       "(2, 400)"
      ]
     },
     "execution_count": 26,
     "metadata": {},
     "output_type": "execute_result"
    }
   ],
   "source": [
    "G2 = np.array([G_F[1],G_F[1439]])\n",
    "G3 = np.array([G_F[1], G_F[720], G_F[1439]])\n",
    "G4 = np.array([G_F[1], G_F[480], G_F[960], G_F[1439]])\n",
    "G5 = np.array([G_F[1], G_F[360], G_F[720], G_F[1080], G_F[1439]])\n",
    "G6 = np.array([G_F[1], G_F[288], G_F[576], G_F[864], G_F[1152], G_F[1439]])\n",
    "G7 = np.array([G_F[1], G_F[240], G_F[480], G_F[720], G_F[960], G_F[1200], G_F[1439]])\n",
    "G8 = np.array([G_F[1], G_F[205], G_F[410], G_F[615], G_F[820], G_F[1025], G_F[1230], G_F[1439]])\n",
    "G2.shape"
   ]
  },
  {
   "cell_type": "code",
   "execution_count": 27,
   "id": "protective-peninsula",
   "metadata": {},
   "outputs": [
    {
     "data": {
      "text/plain": [
       "array([ 3.82981462e+00,  3.07959977e+00,  5.90925869e-02,  2.01004637e+00,\n",
       "        1.65528256e-01,  2.57770522e+00,  1.67093034e+00,  4.32249210e-01,\n",
       "        2.96120200e-01,  1.70188480e+00,  1.17147489e+00,  4.44066969e-01,\n",
       "        1.59617989e+00,  5.04253124e+00,  3.35700258e+00,  4.13630874e+00,\n",
       "        3.21649230e+00,  3.76125798e+00,  7.85169119e-01,  3.32484472e+00,\n",
       "        2.93078945e+00,  3.60747736e-01,  3.23100904e+00,  3.04986489e+00,\n",
       "        2.18633738e+00,  5.12624275e+00,  8.15935123e-01,  1.00623635e+00,\n",
       "        2.63091806e+00,  4.47267939e+00,  5.49490139e-01,  9.60160777e-01,\n",
       "        2.20980917e+00,  6.43832251e+00,  4.93063171e+00,  1.59708775e+00,\n",
       "        2.61005911e+00,  2.38185338e+00, -3.58366159e+00,  4.74061625e+00,\n",
       "        1.73862637e+00,  4.58383658e-01,  1.54035287e+00,  4.80048938e+00,\n",
       "        3.45619854e+00, -5.49162198e-02,  4.57420881e-01,  3.27341317e+00,\n",
       "        2.08084423e+00,  2.82436495e+00,  6.19516436e+00,  5.83783028e-01,\n",
       "        3.17334113e+00,  3.45290738e+00,  7.00665158e-01,  2.62681155e+00,\n",
       "        4.41293408e+00,  1.45382513e+00,  2.09866205e+00,  3.65347712e+00,\n",
       "        1.13035733e+00,  2.04910534e+00,  6.17588255e-01,  4.76388086e-01,\n",
       "        2.47509702e-01,  2.98329437e+00,  2.14294499e+00,  2.13884997e+00,\n",
       "       -1.09646294e+00,  3.64504317e+00,  3.78768751e+00,  2.86192544e+00,\n",
       "        1.42540086e+00,  1.53065697e+00,  4.68082298e-01,  4.84316760e+00,\n",
       "        1.43698704e+00,  2.34295730e+00,  1.42249471e+00,  2.03619684e+00,\n",
       "        6.03326197e+00, -1.05810769e+00,  2.36424810e+00,  3.48737455e-01,\n",
       "        3.05523332e+00,  2.25318302e+00,  3.18180453e+00,  3.12538701e+00,\n",
       "        5.63756630e-01, -3.50107636e-01, -9.47939507e-01,  1.90871487e+00,\n",
       "        3.70936827e+00,  6.61355801e+00,  2.08997112e+00,  4.47194585e+00,\n",
       "        3.91396929e+00,  1.93096658e+00,  4.73701198e+00,  8.38005691e-01,\n",
       "        2.49237315e+00,  1.23881583e+00,  1.33485688e+00,  5.06238333e+00,\n",
       "        2.95055486e+00,  2.00290691e+00,  1.48547918e+00,  2.61365628e+00,\n",
       "        3.29958028e+00,  2.88497586e+00, -1.98579921e+00,  4.80751073e+00,\n",
       "        2.24584371e+00,  3.30237523e+00,  3.87416403e+00,  2.68832783e+00,\n",
       "        2.21718665e+00,  4.03443884e+00, -7.19628978e-01,  2.16635395e+00,\n",
       "        2.96863439e+00, -3.10146534e-01,  2.21326501e+00,  2.70055175e+00,\n",
       "        5.05270310e+00,  8.55566595e-01,  7.86009867e+00,  4.25050621e+00,\n",
       "       -2.29087079e+00,  8.70607657e-01,  2.89913171e+00,  4.49597054e+00,\n",
       "        4.22300595e+00,  1.76364667e+00,  5.95080165e+00,  2.73288904e+00,\n",
       "        2.06554002e+00,  1.00781370e+00,  1.06002746e+00, -5.55206188e-01,\n",
       "        3.06813959e+00,  3.21058130e+00,  1.52074624e+00,  5.30080427e+00,\n",
       "        2.92291311e+00,  2.44767544e+00,  1.79608545e+00,  3.87280460e+00,\n",
       "       -5.89931421e-01,  2.13875906e+00,  1.86162785e+00,  3.83864182e+00,\n",
       "        1.85114551e+00,  1.51443295e+00,  2.49504651e+00,  1.98361957e+00,\n",
       "        2.81273623e+00,  1.63049962e+00,  1.21097804e+00,  3.72582309e+00,\n",
       "        3.85125559e+00,  6.73226386e+00,  3.48233050e+00,  2.68571450e+00,\n",
       "        4.42479620e-02,  2.34610103e+00,  3.57014193e+00,  7.81079560e-01,\n",
       "        4.94549408e+00,  1.15053721e+00,  2.68116884e+00,  4.68093126e+00,\n",
       "        3.43710290e+00,  4.23901336e+00,  2.17270314e+00,  1.59815832e+00,\n",
       "        3.83018073e+00,  2.94689274e+00, -3.42963797e-01,  2.08146939e+00,\n",
       "        3.24511596e+00,  3.04446981e+00,  6.41816995e-01,  3.73611473e+00,\n",
       "        2.87296287e+00,  4.53220473e+00,  1.96529937e+00,  4.91093494e+00,\n",
       "        3.01703667e+00,  6.08978758e+00,  3.20092591e+00, -6.63511494e-01,\n",
       "        2.59150422e+00,  3.66114981e+00,  4.27152387e+00,  1.22929485e+00,\n",
       "        1.06669229e-01,  1.26867771e-01,  2.43710275e+00,  4.45305666e+00,\n",
       "        4.58658147e+00,  4.76019811e+00,  3.24829460e+00,  2.15833004e+00,\n",
       "        2.61135843e+00,  3.18176496e+00,  2.96995270e+00,  3.81055390e+00,\n",
       "        3.60886882e+00,  3.98619514e+00,  8.31734758e-01,  3.62668789e-02,\n",
       "        2.83567663e+00, -5.68421324e-01,  5.63718551e+00,  2.20828145e-01,\n",
       "        5.03986933e-01,  4.55884612e+00,  9.46644767e-01,  3.48969435e+00,\n",
       "       -7.45379968e-02,  4.36773825e+00,  4.57130628e-01,  3.92857921e+00,\n",
       "        4.55601710e+00,  3.14227938e+00, -9.72917645e-01, -1.40747594e-01,\n",
       "        3.38520016e+00,  2.06022186e+00,  7.38238206e-02,  1.75628924e+00,\n",
       "        6.13705224e+00,  3.17107095e+00,  2.03812409e+00,  1.43834740e+00,\n",
       "        3.31240380e+00,  3.70134895e+00,  1.54300654e+00,  4.27523188e+00,\n",
       "        2.79117206e+00,  5.91034053e+00,  2.46312336e+00,  1.74089891e+00,\n",
       "        5.45879235e+00,  4.38592421e+00,  2.84280255e+00,  2.33208860e+00,\n",
       "       -4.77925774e+00, -9.55408882e-01,  1.15786305e+00,  3.41733349e+00,\n",
       "        4.71611356e+00, -1.03710641e+00, -3.80112986e-01,  6.14846854e+00,\n",
       "        2.11381886e+00,  1.42160433e+00,  4.34178366e+00,  1.86436213e+00,\n",
       "        3.38806391e+00,  4.98120576e+00,  4.44955007e-01,  1.31627780e+00,\n",
       "        1.93264217e+00,  1.56870015e-01,  2.50216992e+00,  5.72294402e+00,\n",
       "        4.45450281e+00,  3.22269599e-03,  7.59953341e-01,  1.59879567e+00,\n",
       "        1.18300843e+00,  4.29442485e+00,  2.19770063e+00, -3.55776400e-01,\n",
       "        4.91273835e+00,  2.99132033e+00,  2.64943789e+00,  1.13486755e+00,\n",
       "        3.78196867e+00,  2.40478658e+00,  2.91937612e+00,  1.88257161e+00,\n",
       "        2.94128843e+00,  9.05210669e-01,  2.66434818e+00,  1.05028722e+00,\n",
       "        1.01234738e-01,  2.33667759e+00,  1.99468577e+00,  4.54865034e+00,\n",
       "        5.60502840e+00, -6.08173517e-01,  4.26947590e+00,  6.82476026e+00,\n",
       "        3.70672522e+00,  2.45678273e+00,  2.40415974e+00,  4.62149180e+00,\n",
       "        7.40661078e-01,  1.18103573e+00,  1.21009728e+00,  3.10162259e+00,\n",
       "        2.94482634e+00,  4.04392625e+00,  1.65203510e+00,  1.80202102e+00,\n",
       "        2.73192121e-01,  4.17754141e+00,  3.27323440e+00,  8.08794153e-01,\n",
       "        5.61521868e+00,  2.66009765e+00,  1.55488466e+00,  3.95010356e+00,\n",
       "        2.30625337e+00,  1.99304653e+00,  3.45806563e+00,  1.81471848e+00,\n",
       "        6.87307435e+00,  3.60404348e+00,  5.58076075e-01, -1.03844559e+00,\n",
       "        3.20848779e+00,  1.14465005e+00,  3.99447139e+00,  3.15972523e+00,\n",
       "        2.88918657e+00,  4.42663058e+00,  3.96270817e+00,  3.72444361e+00,\n",
       "        3.37695898e+00,  5.02737949e+00,  6.69116114e-02, -5.49372627e-03,\n",
       "        1.02626307e+00,  1.69931527e+00,  4.63868635e+00,  5.41683859e-01,\n",
       "        2.51831401e+00,  3.49438660e+00,  4.99101555e+00,  4.91867663e+00,\n",
       "        5.17551736e+00,  1.76527155e+00,  1.26467240e+00,  1.39905031e+00,\n",
       "        1.09867062e+00,  3.69620352e+00,  2.87530362e+00,  2.26083362e+00,\n",
       "        4.04574464e+00,  2.90562257e+00,  4.13417743e+00, -3.58390851e+00,\n",
       "        1.88775725e+00,  7.56702244e-01,  4.80629474e+00,  9.18347060e-01,\n",
       "        4.16879361e+00,  9.47592013e-02,  3.81189989e+00,  2.65575857e+00,\n",
       "        4.65343359e-01,  3.38574909e+00,  4.35562730e+00,  5.64925309e+00,\n",
       "        2.95864715e+00, -6.08926452e-01,  3.93672437e+00,  7.15756580e+00,\n",
       "        1.13566464e+00,  4.69760193e+00,  4.07180038e+00,  3.98815414e+00,\n",
       "        4.88007803e+00,  2.40229033e+00, -1.14999340e+00,  1.45749093e+00,\n",
       "        2.72676271e+00,  2.46256414e+00,  2.88517441e+00,  3.59248726e+00,\n",
       "        2.16579319e+00,  4.71065530e+00,  4.56475037e+00,  3.16458497e+00,\n",
       "        1.80151871e+00,  2.94306221e+00,  4.25795098e+00,  3.78242578e+00,\n",
       "        3.51075032e+00,  8.86378189e-01,  7.14845353e-01,  3.01554207e+00,\n",
       "        1.87848565e+00,  1.61074504e+00,  6.04755744e+00,  1.07917510e+00])"
      ]
     },
     "execution_count": 27,
     "metadata": {},
     "output_type": "execute_result"
    }
   ],
   "source": [
    "K_measured[1]"
   ]
  },
  {
   "cell_type": "code",
   "execution_count": 55,
   "id": "dramatic-receiver",
   "metadata": {},
   "outputs": [],
   "source": [
    "K2 = np.array([K_measured[1439]])\n",
    "K3 = np.array([K_measured[720], K_measured[1439]])\n",
    "K4 = np.array([K_measured[480], K_measured[960], K_measured[1439]])\n",
    "K5 = np.array([K_measured[360], K_measured[720], K_measured[1080], K_measured[1439]])\n",
    "K6 = np.array([K_measured[288], K_measured[576], K_measured[864], K_measured[1152], K_measured[1439]])\n",
    "K7 = np.array([K_measured[240], K_measured[480], K_measured[720], K_measured[960], K_measured[1200], K_measured[1439]])\n",
    "K8 = np.array([K_measured[205], K_measured[410], K_measured[615], K_measured[820], K_measured[1025], K_measured[1230], K_measured[1439]])\n",
    "\n",
    "\n",
    "x = random.randint(400, size=(1))"
   ]
  },
  {
   "cell_type": "code",
   "execution_count": 56,
   "id": "respected-uzbekistan",
   "metadata": {},
   "outputs": [],
   "source": [
    "K2M = K2[:, x]\n",
    "K3M = K3[:, x]\n",
    "K4M = K4[:, x]\n",
    "K5M = K5[:, x]\n",
    "K6M = K6[:, x]\n",
    "K7M = K7[:, x]\n",
    "K8M = K8[:, x]\n"
   ]
  },
  {
   "cell_type": "code",
   "execution_count": 57,
   "id": "matched-status",
   "metadata": {},
   "outputs": [],
   "source": [
    "KA2 = np.average(K2M)\n",
    "KA3 = np.average(K3M)\n",
    "KA4 = np.average(K4M)\n",
    "KA5 = np.average(K5M)\n",
    "KA6 = np.average(K6M)\n",
    "KA7 = np.average(K7M)\n",
    "KA8 = np.average(K8M)"
   ]
  },
  {
   "cell_type": "code",
   "execution_count": 59,
   "id": "surgical-sphere",
   "metadata": {},
   "outputs": [
    {
     "name": "stdout",
     "output_type": "stream",
     "text": [
      "4.978079627040562\n"
     ]
    }
   ],
   "source": [
    "print(KA8)"
   ]
  },
  {
   "cell_type": "code",
   "execution_count": null,
   "id": "centered-defeat",
   "metadata": {},
   "outputs": [],
   "source": [
    "G2 = np.array(G[1],G[1439]\n",
    "G3 = G[1], G[720], G[1439]\n",
    "G4 = G[1], G[480], G[960], G[1439]\n",
    "G5 = G[1], G[360], G[720], G[1080], G[1439]\n",
    "G6 = G[1], G[288], G[576], G[864], G[1152], G[1439]\n",
    "G7 = G[1], G[240], G[480], G[720], G[960], G[1200], G[1439]\n",
    "G8 = G[1], G[205], G[410], G[615], G[820], G[1025], G[1230], G[1439]\n",
    "\n",
    "mu = 0\n",
    "\n",
    "sigma = 5\n",
    "\n",
    "MP = 400\n",
    "\n",
    "GN1 = np.random.normal(mu, sigma, MP)\n",
    "GN2 = np.random.normal(mu, sigma, MP)"
   ]
  },
  {
   "cell_type": "code",
   "execution_count": null,
   "id": "invalid-piano",
   "metadata": {},
   "outputs": [],
   "source": [
    "G2.shape"
   ]
  },
  {
   "cell_type": "code",
   "execution_count": null,
   "id": "stunning-mambo",
   "metadata": {},
   "outputs": [],
   "source": [
    "K_measured = (G3**3 - G2**3)/1440"
   ]
  },
  {
   "cell_type": "code",
   "execution_count": null,
   "id": "touched-gazette",
   "metadata": {},
   "outputs": [],
   "source": [
    "G2 = G[1] + GN\n",
    "G3 = G[1439] + GN\n",
    "\n",
    "K_measured = (G3**3 - G2**3)/1440"
   ]
  },
  {
   "cell_type": "code",
   "execution_count": null,
   "id": "wrong-fiber",
   "metadata": {},
   "outputs": [],
   "source": [
    "Kavg = np.average(K_measured)\n",
    "Kavg"
   ]
  },
  {
   "cell_type": "code",
   "execution_count": null,
   "id": "permanent-reunion",
   "metadata": {},
   "outputs": [],
   "source": [
    "# density definitions\n",
    "# density will climb from 0.64 to ideally 1 (but always slightly less) (somewhere between 0.85 and 1)\n",
    "# we will take density from 0.64 to 0.95 (1000 points in between)\n",
    "# we can add in some gaussian noise here as GN\n",
    "\n",
    "\n",
    "G2 = G\n",
    "\n",
    "t2 = t[1,1440]\n",
    "\n",
    "mu = 0\n",
    "\n",
    "sigma = 0.1\n",
    "\n",
    "\n",
    "MP = 20\n",
    "\n",
    "GN = np.random.normal(mu, sigma, MP)\n",
    "\n",
    "\n",
    "\n",
    "G_original = 2.5\n",
    "\n",
    "G_0 = np.ones(1, dtype=np.float64)\n",
    "G_0 = G_0*G_original\n",
    "G_0 = G_0+GN1\n",
    "\n",
    "K = 5\n",
    "\n",
    "G = ((G_0**3)+K*t)**(1/3)\n",
    "G = G+GN2\n",
    "\n",
    "K_measured = (G**3 - G_0**3)/t\n",
    "\n",
    "\n",
    "#Plot density with GN vs true density\n",
    "\n",
    "plt.plot(t, G, 'bo', label=\"grain size\", markersize=1)\n",
    "plt.xlabel('Time')\n",
    "plt.ylabel('Grain Size')\n",
    "plt.legend()\n",
    "plt.show()\n",
    "\n",
    "G_0"
   ]
  },
  {
   "cell_type": "code",
   "execution_count": null,
   "id": "indirect-nature",
   "metadata": {},
   "outputs": [],
   "source": [
    "plt.hist(K_measured, bins = 100)\n",
    "plt.show()"
   ]
  },
  {
   "cell_type": "code",
   "execution_count": null,
   "id": "dental-celtic",
   "metadata": {},
   "outputs": [],
   "source": [
    "K_error = np.abs((K_measured - K)/K)\n",
    "np.average(K_error)*100"
   ]
  },
  {
   "cell_type": "code",
   "execution_count": null,
   "id": "civil-guyana",
   "metadata": {},
   "outputs": [],
   "source": [
    "K_error_final = np.zeros(100)\n",
    "\n",
    "for i in range (3,103):\n",
    "    NM = i\n",
    "    x = random.randint(1000, size=(NM))\n",
    "    K_error = np.abs((K_measured[x] - K)/K)\n",
    "    K_error_final[NM-3] = np.average(K_error)\n",
    "    "
   ]
  },
  {
   "cell_type": "code",
   "execution_count": null,
   "id": "educated-paris",
   "metadata": {},
   "outputs": [],
   "source": [
    "nom  = np.arange(100)\n",
    "K_error_final = K_error_final*100"
   ]
  },
  {
   "cell_type": "code",
   "execution_count": null,
   "id": "ignored-winner",
   "metadata": {},
   "outputs": [],
   "source": [
    "plt.plot(nom, K_error_final, 'bo', label=\"grain size\", markersize=1)\n",
    "plt.xlabel('number of measurements')\n",
    "plt.ylabel('error')\n",
    "plt.legend()\n",
    "plt.show()"
   ]
  },
  {
   "cell_type": "code",
   "execution_count": null,
   "id": "lucky-regular",
   "metadata": {},
   "outputs": [],
   "source": [
    "theta =0.6\n",
    "eps = ((theta*G_0)/G)**2\n",
    "f = 1-eps"
   ]
  },
  {
   "cell_type": "code",
   "execution_count": null,
   "id": "caring-garden",
   "metadata": {},
   "outputs": [],
   "source": [
    "plt.plot(t, f, 'bo', label=\"grain size\", markersize=1)\n",
    "plt.xlabel('Time')\n",
    "plt.ylabel('Grain Size')\n",
    "plt.legend()\n",
    "plt.show()"
   ]
  },
  {
   "cell_type": "code",
   "execution_count": null,
   "id": "inclusive-hundred",
   "metadata": {},
   "outputs": [],
   "source": [
    "K"
   ]
  },
  {
   "cell_type": "code",
   "execution_count": null,
   "id": "sorted-illinois",
   "metadata": {},
   "outputs": [],
   "source": [
    "# Contiguity\n",
    "\n",
    "# q is a dimensionless parameter\n",
    "# q will go from 1.4-1.7 based on the stage of sintering that part is in\n",
    "\n",
    "q = 1.5\n",
    "\n",
    "Css = 1 - q*np.sqrt(Ep)"
   ]
  },
  {
   "cell_type": "code",
   "execution_count": null,
   "id": "affected-greece",
   "metadata": {},
   "outputs": [],
   "source": [
    "K2 = np.array([K_measured[1],K_measured[1439]])\n",
    "K3 = np.array([K_measured[1], K_measured[720], K_measured[1439]])\n",
    "K4 = np.array([K_measured[1], K_measured[480], K_measured[960], K_measured[1439]])\n",
    "K5 = np.array([K_measured[1], K_measured[360], K_measured[720], K_measured[1080], K_measured[1439]])\n",
    "K6 = np.array([K_measured[1], K_measured[288], K_measured[576], K_measured[864], K_measured[1152], K_measured[1439]])\n",
    "K7 = np.array([K_measured[1], K_measured[240], K_measured[480], K_measured[720], K_measured[960], K_measured[1200], K_measured[1439]])\n",
    "K8 = np.array([K_measured[1], K_measured[205], K_measured[410], K_measured[615], K_measured[820], K_measured[1025], K_measured[1230], K_measured[1439]])\n",
    "\n",
    "\n",
    "x = random.randint(400, size=(1))"
   ]
  },
  {
   "cell_type": "code",
   "execution_count": null,
   "id": "composite-allen",
   "metadata": {},
   "outputs": [],
   "source": [
    "# define initial grain size\n",
    "\n",
    "G_o = np.array([10], dtype=np.float64)\n",
    "Kss = np.array([20], dtype=np.float64)\n",
    "\n",
    "t = np.arange(1000, dtype=np.float64)"
   ]
  },
  {
   "cell_type": "code",
   "execution_count": null,
   "id": "transsexual-upper",
   "metadata": {},
   "outputs": [],
   "source": [
    "G = (G_o**3 + t*Kss*(1-q*Ep_True**0.5))**(1/3)\n"
   ]
  },
  {
   "cell_type": "code",
   "execution_count": null,
   "id": "labeled-notebook",
   "metadata": {},
   "outputs": [],
   "source": [
    "G "
   ]
  },
  {
   "cell_type": "code",
   "execution_count": null,
   "id": "documentary-nirvana",
   "metadata": {},
   "outputs": [],
   "source": [
    "plt.plot(t, G, 'bo', label=\"Density Noise\", markersize=1)\n",
    "plt.xlabel('TIME')\n",
    "plt.ylabel('GRAIN SIZE')\n",
    "plt.legend()\n",
    "plt.show()"
   ]
  },
  {
   "cell_type": "code",
   "execution_count": null,
   "id": "expensive-anaheim",
   "metadata": {},
   "outputs": [],
   "source": []
  },
  {
   "cell_type": "code",
   "execution_count": null,
   "id": "professional-syndication",
   "metadata": {},
   "outputs": [],
   "source": [
    "plt.plot(t, F_True, 'bo', label=\"Density Noise\", markersize=1)\n",
    "plt.xlabel('TIME')\n",
    "plt.ylabel('POROSITY')\n",
    "plt.legend()\n",
    "plt.show()"
   ]
  },
  {
   "cell_type": "code",
   "execution_count": null,
   "id": "presidential-sharp",
   "metadata": {},
   "outputs": [],
   "source": [
    "t = np.arange(1000, dtype=np.float64)\n",
    "K = 20\n",
    "G_0 = 10"
   ]
  },
  {
   "cell_type": "code",
   "execution_count": null,
   "id": "primary-bible",
   "metadata": {},
   "outputs": [],
   "source": [
    "G = (G_0**3+K*t)**(1/3)"
   ]
  },
  {
   "cell_type": "code",
   "execution_count": null,
   "id": "fancy-pacific",
   "metadata": {},
   "outputs": [],
   "source": [
    "plt.plot(t, G, 'bo', label=\"Density Noise\", markersize=1)\n",
    "plt.xlabel('TIME')\n",
    "plt.ylabel('GRAIN SIZE')\n",
    "plt.legend()\n",
    "plt.show()"
   ]
  },
  {
   "cell_type": "code",
   "execution_count": null,
   "id": "cardiac-texas",
   "metadata": {},
   "outputs": [],
   "source": [
    "Ep = ((0.6*G_0)/G)**2"
   ]
  },
  {
   "cell_type": "code",
   "execution_count": null,
   "id": "floral-touch",
   "metadata": {},
   "outputs": [],
   "source": [
    "plt.plot(t, Ep, 'bo', label=\"Density Noise\", markersize=1)\n",
    "plt.xlabel('TIME')\n",
    "plt.ylabel('Porosity')\n",
    "plt.legend()\n",
    "plt.show()"
   ]
  },
  {
   "cell_type": "code",
   "execution_count": null,
   "id": "saving-pregnancy",
   "metadata": {},
   "outputs": [],
   "source": [
    "f = 1-Ep\n",
    "\n",
    "plt.plot(t, f, 'bo', label=\"Density Noise\", markersize=1)\n",
    "plt.xlabel('TIME')\n",
    "plt.ylabel('Density')\n",
    "plt.legend()\n",
    "plt.show()"
   ]
  },
  {
   "cell_type": "code",
   "execution_count": null,
   "id": "bottom-hampshire",
   "metadata": {},
   "outputs": [],
   "source": [
    "import matplotlib.pyplot as plt\n",
    "from matplotlib import cm\n",
    "from matplotlib.ticker import LinearLocator\n",
    "import numpy as np\n",
    "\n",
    "fig, ax = plt.subplots(subplot_kw={\"projection\": \"3d\"})\n",
    "\n",
    "surf = ax.plot_surface(t, f, G, cmap=cm.coolwarm,\n",
    "                       linewidth=0, antialiased=False)"
   ]
  },
  {
   "cell_type": "code",
   "execution_count": null,
   "id": "executed-highway",
   "metadata": {},
   "outputs": [],
   "source": [
    "ax = plt.axes(projection='3d')\n",
    "\n",
    "# Data for a three-dimensional line\n",
    "ax.plot3D(f, G, t, 'gray')\n",
    "ax.scatter3D(f, G, t, cmap='Greens');\n"
   ]
  },
  {
   "cell_type": "code",
   "execution_count": null,
   "id": "european-decline",
   "metadata": {},
   "outputs": [],
   "source": [
    "\n",
    "ax.scatter3D(f, G, t, cmap='Greens')"
   ]
  },
  {
   "cell_type": "code",
   "execution_count": null,
   "id": "designing-tracker",
   "metadata": {},
   "outputs": [],
   "source": []
  }
 ],
 "metadata": {
  "kernelspec": {
   "display_name": "Python 3",
   "language": "python",
   "name": "python3"
  },
  "language_info": {
   "codemirror_mode": {
    "name": "ipython",
    "version": 3
   },
   "file_extension": ".py",
   "mimetype": "text/x-python",
   "name": "python",
   "nbconvert_exporter": "python",
   "pygments_lexer": "ipython3",
   "version": "3.8.3"
  }
 },
 "nbformat": 4,
 "nbformat_minor": 5
}
