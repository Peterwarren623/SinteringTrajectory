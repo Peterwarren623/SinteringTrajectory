{
 "cells": [
  {
   "cell_type": "markdown",
   "id": "designing-proposal",
   "metadata": {},
   "source": [
    "Sintering Trajectories: Description on How Density, Surface Area, and Grain Size Change\n",
    "\n",
    "G =  Current Average Grain Size  \n",
    "G_o = Average Initial Grain Size    \n",
    "Ep = Fractional Porosity (1-f)    \n",
    "Theta = starting grain size and porosity condition  \n",
    "Alpha =  diffusivity and surface energy  \n",
    "t = time  \n",
    "f = Current Fractional Density    \n",
    "fo = Original Fractional Density  \n",
    "N = coefficient often near 1/6 - 1/3  \n",
    "K = temperature dependent rate parameter  \n",
    "Y = Change in Length / Original Length   \n",
    "Css = Contiguity (Grain Boundary/Total Grain Perimeter)  \n",
    "Kss = grain growth rate parameter solid-solid interface  \n",
    "Ksv = grain growth rate parameter solid-vapor interface  \n",
    "q = factor (1.5)"
   ]
  },
  {
   "cell_type": "code",
   "execution_count": 34,
   "id": "exceptional-prototype",
   "metadata": {},
   "outputs": [],
   "source": [
    "import matplotlib.pyplot as plt\n",
    "import numpy as np\n",
    "from numpy import random\n",
    "from sklearn.metrics import r2_score"
   ]
  },
  {
   "cell_type": "code",
   "execution_count": 35,
   "id": "greek-proxy",
   "metadata": {},
   "outputs": [
    {
     "data": {
      "image/png": "[encoded data removed]",
      "text/plain": [
       "<Figure size 432x288 with 1 Axes>"
      ]
     },
     "metadata": {
      "needs_background": "light"
     },
     "output_type": "display_data"
    }
   ],
   "source": [
    "# density definitions\n",
    "# density will climb from 0.64 to ideally 1 (but always slightly less) (somewhere between 0.85 and 1)\n",
    "# we will take density from 0.64 to 0.95 (1000 points in between)\n",
    "# we can add in some gaussian noise here as GN\n",
    "\n",
    "\n",
    "\n",
    "t = np.arange(1, 1441, dtype=np.float64)\n",
    "\n",
    "G_original1 = 1\n",
    "G_original2 = 2.5\n",
    "G_original3 = 4\n",
    "\n",
    "K1 = 4\n",
    "K2 = 5\n",
    "K3 = 6\n",
    "\n",
    "G1 = ((G_original1**3)+K1*t)**(1/3)\n",
    "G2 = ((G_original2**3)+K2*t)**(1/3)\n",
    "G3 = ((G_original3**3)+K3*t)**(1/3)\n",
    "\n",
    "\n",
    "#Plot density with GN vs true density\n",
    "\n",
    "plt.plot(t, G1, label=\"G1\")\n",
    "plt.xlabel('Time')\n",
    "plt.ylabel('Grain Size')\n",
    "plt.legend()\n",
    "\n",
    "plt.plot(t, G2, label=\"G2\")\n",
    "plt.xlabel('Time')\n",
    "plt.ylabel('Grain Size')\n",
    "plt.legend()\n",
    "\n",
    "plt.plot(t, G3, label=\"G3\")\n",
    "plt.xlabel('Time')\n",
    "plt.ylabel('Grain Size')\n",
    "plt.legend()\n",
    "plt.show()"
   ]
  },
  {
   "cell_type": "code",
   "execution_count": 36,
   "id": "impressive-romance",
   "metadata": {},
   "outputs": [
    {
     "data": {
      "text/plain": [
       "19.32374590695733"
      ]
     },
     "execution_count": 36,
     "metadata": {},
     "output_type": "execute_result"
    }
   ],
   "source": [
    "G2[1439] "
   ]
  },
  {
   "cell_type": "code",
   "execution_count": 37,
   "id": "ultimate-bidding",
   "metadata": {},
   "outputs": [
    {
     "data": {
      "text/plain": [
       "(1440, 10000)"
      ]
     },
     "execution_count": 37,
     "metadata": {},
     "output_type": "execute_result"
    }
   ],
   "source": [
    "G_F = np.zeros((1440,10000))\n",
    "G_F.shape"
   ]
  },
  {
   "cell_type": "code",
   "execution_count": 85,
   "id": "approved-tablet",
   "metadata": {},
   "outputs": [],
   "source": [
    "G_F = np.zeros((1440,10000))\n",
    "KE1 = np.zeros(30)\n",
    "KE2 = np.zeros(30)\n",
    "KE3 = np.zeros(30)\n",
    "KE4 = np.zeros(30)\n",
    "\n",
    "K = 5\n",
    "G_o = 2.5\n",
    "G = ((G_o**3)+K*t)**(1/3)\n",
    "\n",
    "for j in range(1,30):\n",
    "    for i in range(1440):\n",
    "        mu = 0\n",
    "        sigma = j*0.1\n",
    "        MP = 10000\n",
    "        GN = np.random.normal(mu, sigma, MP)   \n",
    "        G_F[i] = G[i]+GN\n",
    "\n",
    "    tt = np.expand_dims(t, axis=1)   \n",
    "    K_measured = (G_F**3 - G_F[0]**3)/tt\n",
    "    K_E1 = np.abs((K-K_measured)/K)*100\n",
    "    K_E1_mean = np.mean(K_E1, axis=1)\n",
    "    \n",
    "    \n",
    "    K_m2 = np.array([K_measured[720], K_measured[1439]])\n",
    "    K_m2a = np.mean(K_m2, axis=0)\n",
    "    K_E2 = np.abs((K-K_m2a)/K)*100\n",
    "    K_E2a = np.mean(K_E2)\n",
    "    KE2[j] = K_E2a\n",
    "    \n",
    "    K_m3 = np.array([K_measured[480], K_measured[960], K_measured[1439]])\n",
    "    K_m3a = np.mean(K_m3, axis=0)\n",
    "    K_E3 = np.abs((K-K_m3a)/K)*100\n",
    "    K_E3a = np.mean(K_E3)\n",
    "    KE3[j] = K_E3a\n",
    "    \n",
    "    K_m4 = np.array([K_measured[360], K_measured[720], K_measured[1080], K_measured[1439]])\n",
    "    K_m4a = np.mean(K_m4, axis=0)\n",
    "    K_E4 = np.abs((K-K_m4a)/K)*100\n",
    "    K_E4a = np.mean(K_E4)\n",
    "    KE4[j] = K_E4a\n",
    "    \n",
    "    \n",
    "    K_E1_mean = np.mean(K_E1, axis=1)\n",
    "    KE1[j] = K_E1_mean[1439]"
   ]
  },
  {
   "cell_type": "code",
   "execution_count": 86,
   "id": "celtic-neighborhood",
   "metadata": {},
   "outputs": [
    {
     "data": {
      "text/plain": [
       "array([ 0.        ,  0.78863837,  1.5972978 ,  2.33546702,  3.12434056,\n",
       "        3.94171597,  4.70030573,  5.51402705,  6.30937232,  7.14033308,\n",
       "        7.8873011 ,  8.75389627,  9.39709503, 10.34119351, 11.13345258,\n",
       "       12.19672796, 12.89317249, 13.79805213, 14.53822663, 15.46275552,\n",
       "       16.22702182, 17.11439455, 18.41217717, 19.13148882, 20.13197234,\n",
       "       21.05246297, 21.91725049, 22.83332453, 23.84702119, 25.29440256])"
      ]
     },
     "execution_count": 86,
     "metadata": {},
     "output_type": "execute_result"
    }
   ],
   "source": [
    "KE4"
   ]
  },
  {
   "cell_type": "code",
   "execution_count": 88,
   "id": "secondary-party",
   "metadata": {},
   "outputs": [
    {
     "data": {
      "image/png": "[encoded data removed]",
      "text/plain": [
       "<Figure size 432x288 with 1 Axes>"
      ]
     },
     "metadata": {
      "needs_background": "light"
     },
     "output_type": "display_data"
    }
   ],
   "source": [
    "std = np.arange(1, 31)\n",
    "\n",
    "plt.plot(std, KE1, label=\"1m\")\n",
    "plt.xlabel('Standard Deviation')\n",
    "plt.ylabel('K Error')\n",
    "plt.legend()\n",
    "\n",
    "plt.plot(std, KE2, label=\"2m\")\n",
    "plt.xlabel('Standard Deviation')\n",
    "plt.ylabel('K Error')\n",
    "plt.legend()\n",
    "\n",
    "plt.plot(std, KE3, label=\"3m\")\n",
    "plt.xlabel('Standard Deviation')\n",
    "plt.ylabel('K Error')\n",
    "plt.legend()\n",
    "\n",
    "plt.plot(std, KE4, label=\"4m\")\n",
    "plt.xlabel('Standard Deviation')\n",
    "plt.ylabel('K Error')\n",
    "plt.legend()\n",
    "plt.show()\n"
   ]
  },
  {
   "cell_type": "code",
   "execution_count": 89,
   "id": "static-defense",
   "metadata": {},
   "outputs": [],
   "source": [
    "import pandas as pd \n",
    "import csv\n",
    "\n",
    "# assign header columns\n",
    "header = ['A Mean Error', 'B Mean Error', 'A StDev', 'B StDev']\n",
    "\n",
    "Full = np.stack((KE1, KE2, KE3, KE4), axis = 1)\n",
    "\n",
    "Full_pd = np.asarray(Full)\n",
    "\n",
    "pd.DataFrame(Full_pd).to_csv('sample1.csv')"
   ]
  },
  {
   "cell_type": "code",
   "execution_count": null,
   "id": "coordinate-estonia",
   "metadata": {},
   "outputs": [],
   "source": []
  }
 ],
 "metadata": {
  "kernelspec": {
   "display_name": "Python 3",
   "language": "python",
   "name": "python3"
  },
  "language_info": {
   "codemirror_mode": {
    "name": "ipython",
    "version": 3
   },
   "file_extension": ".py",
   "mimetype": "text/x-python",
   "name": "python",
   "nbconvert_exporter": "python",
   "pygments_lexer": "ipython3",
   "version": "3.8.3"
  }
 },
 "nbformat": 4,
 "nbformat_minor": 5
}
